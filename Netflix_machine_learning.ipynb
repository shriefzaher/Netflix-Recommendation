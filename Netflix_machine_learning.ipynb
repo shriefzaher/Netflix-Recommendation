{
 "cells": [
  {
   "cell_type": "code",
   "execution_count": 30,
   "metadata": {
    "id": "BV08cPc5GD3X"
   },
   "outputs": [],
   "source": [
    "import numpy as np\n",
    "import pandas as pd\n",
    "import plotly.express as px\n",
    "import plotly.graph_objects as go\n",
    "from imblearn.over_sampling import RandomOverSampler\n",
    "from sklearn.preprocessing import LabelEncoder\n",
    "from sklearn.model_selection import train_test_split\n",
    "from sklearn.linear_model import LogisticRegression\n",
    "from sklearn.ensemble import RandomForestClassifier\n",
    "from sklearn.feature_extraction.text import TfidfVectorizer\n",
    "from sklearn.metrics.pairwise import cosine_similarity\n",
    "from sklearn.neighbors import KNeighborsClassifier\n",
    "from sklearn.metrics import accuracy_score\n",
    "from sklearn.neighbors import KNeighborsClassifier\n",
    "from  sklearn.preprocessing import StandardScaler\n"
   ]
  },
  {
   "cell_type": "code",
   "execution_count": 31,
   "metadata": {
    "colab": {
     "base_uri": "https://localhost:8080/",
     "height": 73
    },
    "id": "7wblZhGvIaYD",
    "outputId": "5761ea77-0c9c-46cc-b1f5-b8523ec577e1"
   },
   "outputs": [],
   "source": [
    "\n",
    "# Load the dataset\n",
    "import pandas as pd\n",
    "df = pd.read_csv('netflix_titles.csv')"
   ]
  },
  {
   "cell_type": "code",
   "execution_count": 32,
   "metadata": {
    "colab": {
     "base_uri": "https://localhost:8080/",
     "height": 288
    },
    "id": "bAUciY4dIovW",
    "outputId": "7a2914e4-d289-46ac-9da2-bf9b33947ac2"
   },
   "outputs": [
    {
     "data": {
      "text/html": [
       "<div>\n",
       "<style scoped>\n",
       "    .dataframe tbody tr th:only-of-type {\n",
       "        vertical-align: middle;\n",
       "    }\n",
       "\n",
       "    .dataframe tbody tr th {\n",
       "        vertical-align: top;\n",
       "    }\n",
       "\n",
       "    .dataframe thead th {\n",
       "        text-align: right;\n",
       "    }\n",
       "</style>\n",
       "<table border=\"1\" class=\"dataframe\">\n",
       "  <thead>\n",
       "    <tr style=\"text-align: right;\">\n",
       "      <th></th>\n",
       "      <th>show_id</th>\n",
       "      <th>type</th>\n",
       "      <th>title</th>\n",
       "      <th>director</th>\n",
       "      <th>cast</th>\n",
       "      <th>country</th>\n",
       "      <th>date_added</th>\n",
       "      <th>release_year</th>\n",
       "      <th>rating</th>\n",
       "      <th>duration</th>\n",
       "      <th>listed_in</th>\n",
       "      <th>description</th>\n",
       "    </tr>\n",
       "  </thead>\n",
       "  <tbody>\n",
       "    <tr>\n",
       "      <th>0</th>\n",
       "      <td>s1</td>\n",
       "      <td>Movie</td>\n",
       "      <td>Dick Johnson Is Dead</td>\n",
       "      <td>Kirsten Johnson</td>\n",
       "      <td>NaN</td>\n",
       "      <td>United States</td>\n",
       "      <td>25-Sep-21</td>\n",
       "      <td>2020</td>\n",
       "      <td>PG-13</td>\n",
       "      <td>90 min</td>\n",
       "      <td>Documentaries</td>\n",
       "      <td>As her father nears the end of his life, filmm...</td>\n",
       "    </tr>\n",
       "    <tr>\n",
       "      <th>1</th>\n",
       "      <td>s2</td>\n",
       "      <td>TV Show</td>\n",
       "      <td>Blood &amp; Water</td>\n",
       "      <td>NaN</td>\n",
       "      <td>Ama Qamata, Khosi Ngema, Gail Mabalane, Thaban...</td>\n",
       "      <td>South Africa</td>\n",
       "      <td>24-Sep-21</td>\n",
       "      <td>2021</td>\n",
       "      <td>TV-MA</td>\n",
       "      <td>2 Seasons</td>\n",
       "      <td>International TV Shows, TV Dramas, TV Mysteries</td>\n",
       "      <td>After crossing paths at a party, a Cape Town t...</td>\n",
       "    </tr>\n",
       "  </tbody>\n",
       "</table>\n",
       "</div>"
      ],
      "text/plain": [
       "  show_id     type                 title         director  \\\n",
       "0      s1    Movie  Dick Johnson Is Dead  Kirsten Johnson   \n",
       "1      s2  TV Show         Blood & Water              NaN   \n",
       "\n",
       "                                                cast        country  \\\n",
       "0                                                NaN  United States   \n",
       "1  Ama Qamata, Khosi Ngema, Gail Mabalane, Thaban...   South Africa   \n",
       "\n",
       "  date_added  release_year rating   duration  \\\n",
       "0  25-Sep-21          2020  PG-13     90 min   \n",
       "1  24-Sep-21          2021  TV-MA  2 Seasons   \n",
       "\n",
       "                                         listed_in  \\\n",
       "0                                    Documentaries   \n",
       "1  International TV Shows, TV Dramas, TV Mysteries   \n",
       "\n",
       "                                         description  \n",
       "0  As her father nears the end of his life, filmm...  \n",
       "1  After crossing paths at a party, a Cape Town t...  "
      ]
     },
     "execution_count": 32,
     "metadata": {},
     "output_type": "execute_result"
    }
   ],
   "source": [
    "df.head(2)"
   ]
  },
  {
   "cell_type": "code",
   "execution_count": 33,
   "metadata": {
    "id": "6BNBxxQJGD3b"
   },
   "outputs": [],
   "source": [
    "# convert date_added to pandas datetime type\n",
    "df['date_added'] = pd.to_datetime(df['date_added'],format=\"mixed\")"
   ]
  },
  {
   "cell_type": "code",
   "execution_count": 34,
   "metadata": {
    "id": "D155z27KGD3b"
   },
   "outputs": [
    {
     "name": "stderr",
     "output_type": "stream",
     "text": [
      "C:\\Users\\EL MOSTAWRYD IA\\AppData\\Local\\Temp\\ipykernel_9304\\2982211048.py:5: FutureWarning: A value is trying to be set on a copy of a DataFrame or Series through chained assignment using an inplace method.\n",
      "The behavior will change in pandas 3.0. This inplace method will never work because the intermediate object on which we are setting values always behaves as a copy.\n",
      "\n",
      "For example, when doing 'df[col].method(value, inplace=True)', try using 'df.method({col: value}, inplace=True)' or df[col] = df[col].method(value) instead, to perform the operation inplace on the original object.\n",
      "\n",
      "\n",
      "  df['duration'].replace(np.nan,'Not Added', inplace= True)\n"
     ]
    }
   ],
   "source": [
    "# fill null values in director, cast and country columns to be set to 'unknown', and for duration to be 'Not added'\n",
    "df[\"director\"]=df[\"director\"].fillna(\"Unknown\")\n",
    "df[\"cast\"]=df[\"cast\"].fillna(\"Unknown\")\n",
    "df[\"country\"]=df[\"country\"].fillna(\"Unknown\")\n",
    "df['duration'].replace(np.nan,'Not Added', inplace= True)"
   ]
  },
  {
   "cell_type": "code",
   "execution_count": 35,
   "metadata": {
    "id": "2eKkn_VhGD3c"
   },
   "outputs": [],
   "source": [
    "\n",
    "\n",
    "# fill the rest of null values to previous and next values\n",
    "df = df.ffill().bfill()\n"
   ]
  },
  {
   "cell_type": "code",
   "execution_count": 36,
   "metadata": {
    "id": "TeAE5ZQRGD3d"
   },
   "outputs": [],
   "source": [
    "# drop rows have 'duration' == 'Not Added'\n",
    "idx = df[df.duration == 'Not Added'].index\n",
    "df.drop(idx, inplace= True)\n",
    "df.reset_index(drop= True, inplace= True)"
   ]
  },
  {
   "cell_type": "code",
   "execution_count": 37,
   "metadata": {
    "id": "mjjz1EL4GD3e"
   },
   "outputs": [],
   "source": [
    "## Feature Engineering"
   ]
  },
  {
   "cell_type": "code",
   "execution_count": 38,
   "metadata": {
    "id": "YmV7KTgvGD3e"
   },
   "outputs": [],
   "source": [
    "# Create features year_added, month_added & month_name\n",
    "df['year_added'] = df['date_added'].dt.year.astype(int)\n",
    "df['month_added'] = df['date_added'].dt.month\n",
    "df['month_name'] = df['date_added'].dt.month_name()"
   ]
  },
  {
   "cell_type": "code",
   "execution_count": 39,
   "metadata": {
    "id": "xUmxlpoyGD3f"
   },
   "outputs": [],
   "source": [
    "# Create features year_added, month_added & month_name\n",
    "df['year_added'] = df['date_added'].dt.year.astype(int)\n",
    "df['month_added'] = df['date_added'].dt.month\n",
    "df['month_name'] = df['date_added'].dt.month_name()\n",
    "\n"
   ]
  },
  {
   "cell_type": "code",
   "execution_count": 40,
   "metadata": {
    "id": "SClzv9mlGD3g"
   },
   "outputs": [],
   "source": [
    "# create 'season_count' col for TV Shows & 'duration' col for movies\n",
    "df['season_count'] = df.duration.apply(lambda x: x.split(' ')[0] if 'Season' in x else np.nan)\n",
    "df['duration'] = df.duration.apply(lambda x: x.split(' ')[0] if 'Season' not in x else np.nan)"
   ]
  },
  {
   "cell_type": "code",
   "execution_count": 41,
   "metadata": {
    "id": "na60p77TGD3g"
   },
   "outputs": [],
   "source": [
    "# convert ['duration', 'release_year', 'season_count'] to numeric format\n",
    "cols = ['duration', 'release_year', 'season_count']\n",
    "df[cols] = df[cols].apply(pd.to_numeric, errors='coerce')"
   ]
  },
  {
   "cell_type": "code",
   "execution_count": 42,
   "metadata": {
    "colab": {
     "base_uri": "https://localhost:8080/"
    },
    "id": "h5CJHtCLGD3h",
    "outputId": "4fa36e3f-7d07-4dba-b684-c119a72965ad"
   },
   "outputs": [
    {
     "name": "stderr",
     "output_type": "stream",
     "text": [
      "c:\\Users\\EL MOSTAWRYD IA\\AppData\\Local\\Programs\\Python\\Python39\\lib\\site-packages\\sklearn\\base.py:484: FutureWarning: `BaseEstimator._check_n_features` is deprecated in 1.6 and will be removed in 1.7. Use `sklearn.utils.validation._check_n_features` instead.\n",
      "  warnings.warn(\n",
      "c:\\Users\\EL MOSTAWRYD IA\\AppData\\Local\\Programs\\Python\\Python39\\lib\\site-packages\\sklearn\\base.py:493: FutureWarning: `BaseEstimator._check_feature_names` is deprecated in 1.6 and will be removed in 1.7. Use `sklearn.utils.validation._check_feature_names` instead.\n",
      "  warnings.warn(\n"
     ]
    },
    {
     "name": "stdout",
     "output_type": "stream",
     "text": [
      "RandomForestClassifier Accuracy: 1.0\n",
      "Logistic Regression Accuracy: 0.9881729200652528\n"
     ]
    },
    {
     "name": "stderr",
     "output_type": "stream",
     "text": [
      "c:\\Users\\EL MOSTAWRYD IA\\AppData\\Local\\Programs\\Python\\Python39\\lib\\site-packages\\sklearn\\linear_model\\_logistic.py:465: ConvergenceWarning: lbfgs failed to converge (status=1):\n",
      "STOP: TOTAL NO. of ITERATIONS REACHED LIMIT.\n",
      "\n",
      "Increase the number of iterations (max_iter) or scale the data as shown in:\n",
      "    https://scikit-learn.org/stable/modules/preprocessing.html\n",
      "Please also refer to the documentation for alternative solver options:\n",
      "    https://scikit-learn.org/stable/modules/linear_model.html#logistic-regression\n",
      "  n_iter_i = _check_optimize_result(\n"
     ]
    }
   ],
   "source": [
    "\n",
    "# Separate features and target variable\n",
    "X = df.drop(columns=['type'])  # Features\n",
    "y = df['type']  # Target variable\n",
    "\n",
    "# Apply oversampling to address class imbalance\n",
    "oversampler = RandomOverSampler()\n",
    "X_resampled, y_resampled = oversampler.fit_resample(X, y)\n",
    "\n",
    "# Convert back to DataFrame if needed\n",
    "df_resampled = pd.concat([pd.DataFrame(X_resampled, columns=X.columns), pd.DataFrame(y_resampled, columns=['type'])], axis=1)\n",
    "\n",
    "# Encode categorical variables\n",
    "label_encoder = LabelEncoder()\n",
    "X_resampled_encoded = X_resampled.apply(label_encoder.fit_transform)\n",
    "\n",
    "# Split the data into training and testing sets\n",
    "X_train, X_test, y_train, y_test = train_test_split(X_resampled_encoded, y_resampled, test_size=0.2, random_state=42)\n",
    "\n",
    "# Initializing classifiers\n",
    "rf_classifier = RandomForestClassifier()\n",
    "logistic_classifier = LogisticRegression()\n",
    "\n",
    "rf_classifier.fit(X_train, y_train)\n",
    "logistic_classifier.fit(X_train, y_train)\n",
    "\n",
    "# Making predictions\n",
    "rf_pred = rf_classifier.predict(X_test)\n",
    "logistic_pred = logistic_classifier.predict(X_test)\n",
    "\n",
    "# Evaluating RandomForestClassifier\n",
    "rf_accuracy = accuracy_score(y_test, rf_pred)\n",
    "\n",
    "# Evaluating Logistic Regression\n",
    "logistic_accuracy = accuracy_score(y_test, logistic_pred)\n",
    "\n",
    "# Print the accuracies\n",
    "print(\"RandomForestClassifier Accuracy:\", rf_accuracy)\n",
    "print(\"Logistic Regression Accuracy:\", logistic_accuracy)\n",
    "\n"
   ]
  },
  {
   "cell_type": "code",
   "execution_count": 43,
   "metadata": {
    "colab": {
     "base_uri": "https://localhost:8080/",
     "height": 288
    },
    "id": "OUwjr6l2GD3h",
    "outputId": "febe2925-de04-405a-b6db-fa16969cccff"
   },
   "outputs": [
    {
     "data": {
      "text/html": [
       "<div>\n",
       "<style scoped>\n",
       "    .dataframe tbody tr th:only-of-type {\n",
       "        vertical-align: middle;\n",
       "    }\n",
       "\n",
       "    .dataframe tbody tr th {\n",
       "        vertical-align: top;\n",
       "    }\n",
       "\n",
       "    .dataframe thead th {\n",
       "        text-align: right;\n",
       "    }\n",
       "</style>\n",
       "<table border=\"1\" class=\"dataframe\">\n",
       "  <thead>\n",
       "    <tr style=\"text-align: right;\">\n",
       "      <th></th>\n",
       "      <th>show_id</th>\n",
       "      <th>title</th>\n",
       "      <th>director</th>\n",
       "      <th>cast</th>\n",
       "      <th>country</th>\n",
       "      <th>date_added</th>\n",
       "      <th>release_year</th>\n",
       "      <th>rating</th>\n",
       "      <th>duration</th>\n",
       "      <th>listed_in</th>\n",
       "      <th>description</th>\n",
       "      <th>year_added</th>\n",
       "      <th>month_added</th>\n",
       "      <th>month_name</th>\n",
       "      <th>season_count</th>\n",
       "      <th>type</th>\n",
       "    </tr>\n",
       "  </thead>\n",
       "  <tbody>\n",
       "    <tr>\n",
       "      <th>0</th>\n",
       "      <td>s1</td>\n",
       "      <td>Dick Johnson Is Dead</td>\n",
       "      <td>Kirsten Johnson</td>\n",
       "      <td>Unknown</td>\n",
       "      <td>United States</td>\n",
       "      <td>2021-09-25</td>\n",
       "      <td>2020</td>\n",
       "      <td>PG-13</td>\n",
       "      <td>90.0</td>\n",
       "      <td>Documentaries</td>\n",
       "      <td>As her father nears the end of his life, filmm...</td>\n",
       "      <td>2021</td>\n",
       "      <td>9</td>\n",
       "      <td>September</td>\n",
       "      <td>NaN</td>\n",
       "      <td>Movie</td>\n",
       "    </tr>\n",
       "    <tr>\n",
       "      <th>1</th>\n",
       "      <td>s2</td>\n",
       "      <td>Blood &amp; Water</td>\n",
       "      <td>Unknown</td>\n",
       "      <td>Ama Qamata, Khosi Ngema, Gail Mabalane, Thaban...</td>\n",
       "      <td>South Africa</td>\n",
       "      <td>2021-09-24</td>\n",
       "      <td>2021</td>\n",
       "      <td>TV-MA</td>\n",
       "      <td>NaN</td>\n",
       "      <td>International TV Shows, TV Dramas, TV Mysteries</td>\n",
       "      <td>After crossing paths at a party, a Cape Town t...</td>\n",
       "      <td>2021</td>\n",
       "      <td>9</td>\n",
       "      <td>September</td>\n",
       "      <td>2.0</td>\n",
       "      <td>TV Show</td>\n",
       "    </tr>\n",
       "  </tbody>\n",
       "</table>\n",
       "</div>"
      ],
      "text/plain": [
       "  show_id                 title         director  \\\n",
       "0      s1  Dick Johnson Is Dead  Kirsten Johnson   \n",
       "1      s2         Blood & Water          Unknown   \n",
       "\n",
       "                                                cast        country  \\\n",
       "0                                            Unknown  United States   \n",
       "1  Ama Qamata, Khosi Ngema, Gail Mabalane, Thaban...   South Africa   \n",
       "\n",
       "  date_added  release_year rating  duration  \\\n",
       "0 2021-09-25          2020  PG-13      90.0   \n",
       "1 2021-09-24          2021  TV-MA       NaN   \n",
       "\n",
       "                                         listed_in  \\\n",
       "0                                    Documentaries   \n",
       "1  International TV Shows, TV Dramas, TV Mysteries   \n",
       "\n",
       "                                         description  year_added  month_added  \\\n",
       "0  As her father nears the end of his life, filmm...        2021            9   \n",
       "1  After crossing paths at a party, a Cape Town t...        2021            9   \n",
       "\n",
       "  month_name  season_count     type  \n",
       "0  September           NaN    Movie  \n",
       "1  September           2.0  TV Show  "
      ]
     },
     "execution_count": 43,
     "metadata": {},
     "output_type": "execute_result"
    }
   ],
   "source": [
    "df_resampled.head(2)"
   ]
  },
  {
   "cell_type": "code",
   "execution_count": null,
   "metadata": {
    "id": "Kalttm8oGD3i"
   },
   "outputs": [],
   "source": []
  },
  {
   "cell_type": "code",
   "execution_count": 44,
   "metadata": {
    "colab": {
     "base_uri": "https://localhost:8080/"
    },
    "id": "rQkJGrTmGD3i",
    "outputId": "b4d37e0f-e5a9-4ea8-b12c-fe0f268316a0"
   },
   "outputs": [
    {
     "name": "stderr",
     "output_type": "stream",
     "text": [
      "c:\\Users\\EL MOSTAWRYD IA\\AppData\\Local\\Programs\\Python\\Python39\\lib\\site-packages\\sklearn\\base.py:484: FutureWarning: `BaseEstimator._check_n_features` is deprecated in 1.6 and will be removed in 1.7. Use `sklearn.utils.validation._check_n_features` instead.\n",
      "  warnings.warn(\n",
      "c:\\Users\\EL MOSTAWRYD IA\\AppData\\Local\\Programs\\Python\\Python39\\lib\\site-packages\\sklearn\\base.py:493: FutureWarning: `BaseEstimator._check_feature_names` is deprecated in 1.6 and will be removed in 1.7. Use `sklearn.utils.validation._check_feature_names` instead.\n",
      "  warnings.warn(\n"
     ]
    },
    {
     "name": "stdout",
     "output_type": "stream",
     "text": [
      "RandomForestClassifier Train Accuracy: 1.0\n",
      "RandomForestClassifier Test Accuracy: 0.9942927028128822\n",
      "Logistic Regression Train Accuracy: 0.8456519522887145\n",
      "Logistic Regression Test Accuracy: 0.849164288626172\n"
     ]
    },
    {
     "name": "stderr",
     "output_type": "stream",
     "text": [
      "c:\\Users\\EL MOSTAWRYD IA\\AppData\\Local\\Programs\\Python\\Python39\\lib\\site-packages\\sklearn\\linear_model\\_logistic.py:465: ConvergenceWarning: lbfgs failed to converge (status=1):\n",
      "STOP: TOTAL NO. of ITERATIONS REACHED LIMIT.\n",
      "\n",
      "Increase the number of iterations (max_iter) or scale the data as shown in:\n",
      "    https://scikit-learn.org/stable/modules/preprocessing.html\n",
      "Please also refer to the documentation for alternative solver options:\n",
      "    https://scikit-learn.org/stable/modules/linear_model.html#logistic-regression\n",
      "  n_iter_i = _check_optimize_result(\n"
     ]
    }
   ],
   "source": [
    "\n",
    "\n",
    "# Load your dataset (replace 'your_dataset.csv' with the actual dataset)\n",
    "df = pd.read_csv('netflix_titles.csv')\n",
    "\n",
    "# Separate features and target variable\n",
    "X = df.drop(columns=['type'])  # Features\n",
    "y = df['type']  # Target variable\n",
    "\n",
    "# Apply oversampling to address class imbalance\n",
    "oversampler = RandomOverSampler()\n",
    "X_resampled, y_resampled = oversampler.fit_resample(X, y)\n",
    "\n",
    "# Convert back to DataFrame if needed\n",
    "df_resampled = pd.concat([pd.DataFrame(X_resampled, columns=X.columns), pd.DataFrame(y_resampled, columns=['type'])], axis=1)\n",
    "\n",
    "# Encode categorical variables\n",
    "label_encoder = LabelEncoder()\n",
    "X_resampled_encoded = X_resampled.apply(label_encoder.fit_transform)\n",
    "\n",
    "# Split the data into training and testing sets\n",
    "X_train, X_test, y_train, y_test = train_test_split(X_resampled_encoded, y_resampled, test_size=0.2, random_state=42)\n",
    "\n",
    "# Initializing classifiers\n",
    "rf_classifier = RandomForestClassifier()\n",
    "logistic_classifier = LogisticRegression()\n",
    "\n",
    "# Fit the models on the training set\n",
    "rf_classifier.fit(X_train, y_train)\n",
    "logistic_classifier.fit(X_train, y_train)\n",
    "\n",
    "# Making predictions on both the training and test sets for both classifiers\n",
    "# Random Forest\n",
    "rf_train_pred = rf_classifier.predict(X_train)\n",
    "rf_test_pred = rf_classifier.predict(X_test)\n",
    "\n",
    "# Logistic Regression\n",
    "logistic_train_pred = logistic_classifier.predict(X_train)\n",
    "logistic_test_pred = logistic_classifier.predict(X_test)\n",
    "\n",
    "# Evaluating RandomForestClassifier (train and test accuracy)\n",
    "rf_train_accuracy = accuracy_score(y_train, rf_train_pred)\n",
    "rf_test_accuracy = accuracy_score(y_test, rf_test_pred)\n",
    "\n",
    "# Evaluating Logistic Regression (train and test accuracy)\n",
    "logistic_train_accuracy = accuracy_score(y_train, logistic_train_pred)\n",
    "logistic_test_accuracy = accuracy_score(y_test, logistic_test_pred)\n",
    "\n",
    "# Print the train and test accuracies\n",
    "print(\"RandomForestClassifier Train Accuracy:\", rf_train_accuracy)\n",
    "print(\"RandomForestClassifier Test Accuracy:\", rf_test_accuracy)\n",
    "\n",
    "print(\"Logistic Regression Train Accuracy:\", logistic_train_accuracy)\n",
    "print(\"Logistic Regression Test Accuracy:\", logistic_test_accuracy)\n"
   ]
  },
  {
   "cell_type": "code",
   "execution_count": null,
   "metadata": {
    "id": "AXOe0XxnGD3j"
   },
   "outputs": [],
   "source": []
  },
  {
   "cell_type": "code",
   "execution_count": 45,
   "metadata": {
    "id": "ktlzFpyaGD3j"
   },
   "outputs": [],
   "source": [
    "# Train and test data with K-Nearest Neighbors Classifier\n",
    "\n",
    "\n",
    "\n"
   ]
  },
  {
   "cell_type": "code",
   "execution_count": 46,
   "metadata": {
    "colab": {
     "base_uri": "https://localhost:8080/"
    },
    "id": "_pPRsK2ZGD3j",
    "outputId": "5f02fb02-514f-4dae-eeb4-5e3c32ef943c"
   },
   "outputs": [
    {
     "name": "stderr",
     "output_type": "stream",
     "text": [
      "c:\\Users\\EL MOSTAWRYD IA\\AppData\\Local\\Programs\\Python\\Python39\\lib\\site-packages\\sklearn\\base.py:484: FutureWarning: `BaseEstimator._check_n_features` is deprecated in 1.6 and will be removed in 1.7. Use `sklearn.utils.validation._check_n_features` instead.\n",
      "  warnings.warn(\n",
      "c:\\Users\\EL MOSTAWRYD IA\\AppData\\Local\\Programs\\Python\\Python39\\lib\\site-packages\\sklearn\\base.py:493: FutureWarning: `BaseEstimator._check_feature_names` is deprecated in 1.6 and will be removed in 1.7. Use `sklearn.utils.validation._check_feature_names` instead.\n",
      "  warnings.warn(\n"
     ]
    },
    {
     "name": "stdout",
     "output_type": "stream",
     "text": [
      "K-Nearest Neighbors Classifier Train Accuracy: 93.78%\n",
      "K-Nearest Neighbors Classifier Test Accuracy: 90.38%\n"
     ]
    }
   ],
   "source": [
    "\n",
    "\n",
    "# Separate features and target variable\n",
    "X = df.drop(columns=['type'])  # Features\n",
    "y = df['type']  # Target variable\n",
    "\n",
    "# Apply oversampling to address class imbalance\n",
    "oversampler = RandomOverSampler()\n",
    "X_resampled, y_resampled = oversampler.fit_resample(X, y)\n",
    "\n",
    "# Convert back to DataFrame if needed\n",
    "df_resampled = pd.concat([pd.DataFrame(X_resampled, columns=X.columns), pd.DataFrame(y_resampled, columns=['type'])], axis=1)\n",
    "\n",
    "# Encode categorical variables\n",
    "label_encoder = LabelEncoder()\n",
    "X_resampled_encoded = X_resampled.apply(label_encoder.fit_transform)\n",
    "\n",
    "# Feature scaling (KNN benefits from feature scaling)\n",
    "scaler = StandardScaler()\n",
    "X_resampled_scaled = scaler.fit_transform(X_resampled_encoded)\n",
    "\n",
    "# Split the data into training and testing sets\n",
    "X_train, X_test, y_train, y_test = train_test_split(X_resampled_scaled, y_resampled, test_size=0.2, random_state=42)\n",
    "\n",
    "# Initialize K-Nearest Neighbors classifier\n",
    "knn_classifier = KNeighborsClassifier(n_neighbors=5)\n",
    "\n",
    "# Train the KNN model\n",
    "knn_classifier.fit(X_train, y_train)\n",
    "\n",
    "# Make predictions with KNN\n",
    "y_train_pred = knn_classifier.predict(X_train)  # Predictions on training set\n",
    "y_test_pred = knn_classifier.predict(X_test)  # Predictions on test set\n",
    "\n",
    "# Calculate the training and test accuracies\n",
    "train_accuracy = accuracy_score(y_train, y_train_pred)\n",
    "test_accuracy = accuracy_score(y_test, y_test_pred)\n",
    "\n",
    "# Print the train and test accuracies\n",
    "print(f\"K-Nearest Neighbors Classifier Train Accuracy: {train_accuracy * 100:.2f}%\")\n",
    "print(f\"K-Nearest Neighbors Classifier Test Accuracy: {test_accuracy * 100:.2f}%\")\n"
   ]
  },
  {
   "cell_type": "code",
   "execution_count": null,
   "metadata": {
    "id": "YyBjUAVuKIc7"
   },
   "outputs": [],
   "source": []
  },
  {
   "cell_type": "code",
   "execution_count": null,
   "metadata": {
    "id": "rwEOnrvSGD3l"
   },
   "outputs": [],
   "source": []
  },
  {
   "cell_type": "code",
   "execution_count": 47,
   "metadata": {
    "colab": {
     "base_uri": "https://localhost:8080/"
    },
    "id": "pNWOImdSGD3l",
    "outputId": "df39a3b0-5b79-4405-99d5-bae7e024a809"
   },
   "outputs": [
    {
     "name": "stdout",
     "output_type": "stream",
     "text": [
      "8353                    The Hunt\n",
      "5044           When We First Met\n",
      "7037               I Am Jane Doe\n",
      "3094                     The App\n",
      "8238           The Carter Effect\n",
      "7850    Reggie Yates Outside Man\n",
      "4056                      Losers\n",
      "7904           Running for Grace\n",
      "6519          Comedy Bang! Bang!\n",
      "227                  Really Love\n",
      "Name: title, dtype: object\n"
     ]
    }
   ],
   "source": [
    "\n",
    "\n",
    "# Step 1: Preprocess the data\n",
    "# Fill missing values with an empty string\n",
    "df['director'] = df['director'].fillna('')\n",
    "df['cast'] = df['cast'].fillna('')\n",
    "df['listed_in'] = df['listed_in'].fillna('')\n",
    "df['description'] = df['description'].fillna('')\n",
    "\n",
    "# Handle the duration column\n",
    "def process_duration(duration):\n",
    "    if 'min' in duration:\n",
    "        return int(duration.replace(' min', ''))  # Extract minutes\n",
    "    elif 'Season' in duration:\n",
    "        return int(duration.replace(' Seasons', '').replace(' Season', '')) * 60  # Convert seasons to hours (as a proxy)\n",
    "    else:\n",
    "        return 0\n",
    "\n",
    "df['duration'] = df['duration'].fillna('0').apply(process_duration)\n",
    "\n",
    "# Step 2: Combine features including description for similarity computation\n",
    "df['combined_features'] = df['type'] + ' ' + df['director'] + ' ' + df['cast'] + ' ' + df['listed_in'] + ' ' + df['description']\n",
    "\n",
    "# Step 3: Vectorize the text data using TF-IDF\n",
    "tfidf = TfidfVectorizer(stop_words='english')\n",
    "tfidf_matrix = tfidf.fit_transform(df['combined_features'])\n",
    "\n",
    "# Step 4: Compute cosine similarity between all movies/shows\n",
    "cosine_sim = cosine_similarity(tfidf_matrix, tfidf_matrix)\n",
    "\n",
    "# Step 5: Build a function that recommends shows or movies based on similarity score\n",
    "def get_recommendations(title, cosine_sim=cosine_sim):\n",
    "    # Try to get the index of the movie that matches the title\n",
    "    try:\n",
    "        idx = df[df['title'].str.contains(title, case=False)].index[0]\n",
    "    except IndexError:\n",
    "        return \"Sorry, the title you entered was not found in the dataset.\"\n",
    "\n",
    "    # Get the pairwise similarity scores of all shows/movies with that title\n",
    "    sim_scores = list(enumerate(cosine_sim[idx]))\n",
    "\n",
    "    # Sort the shows/movies based on similarity scores\n",
    "    sim_scores = sorted(sim_scores, key=lambda x: x[1], reverse=True)\n",
    "\n",
    "    # Get the scores of the 10 most similar shows/movies\n",
    "    sim_scores = sim_scores[1:11]\n",
    "\n",
    "    # Get the show/movie indices\n",
    "    show_indices = [i[0] for i in sim_scores]\n",
    "\n",
    "    # Return the top 10 most similar shows/movies\n",
    "    return df['title'].iloc[show_indices]\n",
    "\n",
    "# Step 6: Test the recommendation function with error handling\n",
    "print(get_recommendations('Sankofa'))\n"
   ]
  },
  {
   "cell_type": "code",
   "execution_count": null,
   "metadata": {
    "id": "kHf8e67OGD3l"
   },
   "outputs": [],
   "source": []
  },
  {
   "cell_type": "code",
   "execution_count": 48,
   "metadata": {
    "colab": {
     "base_uri": "https://localhost:8080/"
    },
    "id": "D1N-Bb6lGD3l",
    "outputId": "e98885e0-9376-46a1-d728-217c3acabf57"
   },
   "outputs": [
    {
     "name": "stderr",
     "output_type": "stream",
     "text": [
      "c:\\Users\\EL MOSTAWRYD IA\\AppData\\Local\\Programs\\Python\\Python39\\lib\\site-packages\\sklearn\\base.py:484: FutureWarning: `BaseEstimator._check_n_features` is deprecated in 1.6 and will be removed in 1.7. Use `sklearn.utils.validation._check_n_features` instead.\n",
      "  warnings.warn(\n",
      "c:\\Users\\EL MOSTAWRYD IA\\AppData\\Local\\Programs\\Python\\Python39\\lib\\site-packages\\sklearn\\base.py:493: FutureWarning: `BaseEstimator._check_feature_names` is deprecated in 1.6 and will be removed in 1.7. Use `sklearn.utils.validation._check_feature_names` instead.\n",
      "  warnings.warn(\n"
     ]
    },
    {
     "name": "stdout",
     "output_type": "stream",
     "text": [
      "{'KNN_Prediction': 'Movie', 'Content-Based_Recommendations': 8353                    The Hunt\n",
      "5044           When We First Met\n",
      "7037               I Am Jane Doe\n",
      "3094                     The App\n",
      "8238           The Carter Effect\n",
      "7850    Reggie Yates Outside Man\n",
      "4056                      Losers\n",
      "7904           Running for Grace\n",
      "6519          Comedy Bang! Bang!\n",
      "227                  Really Love\n",
      "Name: title, dtype: object}\n"
     ]
    }
   ],
   "source": [
    "\n",
    "\n",
    "\n",
    "\n",
    "# Combining text features for content-based similarity\n",
    "df['combined_features'] = df['type'] + ' ' + df['director'] + ' ' + df['cast'] + ' ' + df['listed_in'] + ' ' + df['description']\n",
    "\n",
    "# Step 1: Content-Based Model (TF-IDF + Cosine Similarity)\n",
    "tfidf = TfidfVectorizer(stop_words='english')\n",
    "tfidf_matrix = tfidf.fit_transform(df['combined_features'])\n",
    "cosine_sim = cosine_similarity(tfidf_matrix, tfidf_matrix)\n",
    "\n",
    "# KNN Preparation\n",
    "# Step 2: KNN Model (for classification)\n",
    "\n",
    "# Separate features and target variable for KNN\n",
    "X = df.drop(columns=['type'])  # Features\n",
    "y = df['type']  # Target variable\n",
    "\n",
    "# Apply oversampling to address class imbalance\n",
    "oversampler = RandomOverSampler()\n",
    "X_resampled, y_resampled = oversampler.fit_resample(X, y)\n",
    "\n",
    "# Encode categorical variables for KNN\n",
    "label_encoder = LabelEncoder()\n",
    "X_resampled_encoded = X_resampled.apply(label_encoder.fit_transform)\n",
    "\n",
    "# Feature scaling (KNN benefits from feature scaling)\n",
    "scaler = StandardScaler()\n",
    "X_resampled_scaled = scaler.fit_transform(X_resampled_encoded)\n",
    "\n",
    "# Split the data into training and testing sets\n",
    "X_train, X_test, y_train, y_test = train_test_split(X_resampled_scaled, y_resampled, test_size=0.2, random_state=42)\n",
    "\n",
    "# Initialize K-Nearest Neighbors classifier\n",
    "knn_classifier = KNeighborsClassifier(n_neighbors=5)\n",
    "\n",
    "# Train the KNN model\n",
    "knn_classifier.fit(X_train, y_train)\n",
    "\n",
    "# Function to get recommendations from content-based model\n",
    "def get_content_recommendations(title, cosine_sim=cosine_sim):\n",
    "    try:\n",
    "        idx = df[df['title'].str.contains(title, case=False)].index[0]\n",
    "    except IndexError:\n",
    "        return []\n",
    "\n",
    "    sim_scores = list(enumerate(cosine_sim[idx]))\n",
    "    sim_scores = sorted(sim_scores, key=lambda x: x[1], reverse=True)\n",
    "    sim_scores = sim_scores[1:11]\n",
    "    show_indices = [i[0] for i in sim_scores]\n",
    "\n",
    "    return df['title'].iloc[show_indices]\n",
    "\n",
    "# Voting Classifier: Combine KNN and Content-Based Model\n",
    "def voting_classifier(title, cosine_sim=cosine_sim, knn_model=knn_classifier, weight_knn=0.5, weight_content=0.5):\n",
    "    # Step 1: Get content-based recommendations\n",
    "    content_based_recommendations = get_content_recommendations(title)\n",
    "\n",
    "    # Step 2: Get KNN predictions\n",
    "    # Note: We use KNN to predict the \"type\" (TV Show/Movie) based on numeric and categorical features\n",
    "    # For simplicity, we simulate a scenario where we want to predict the type of the given title.\n",
    "    try:\n",
    "        idx = df[df['title'].str.contains(title, case=False)].index[0]\n",
    "        knn_pred = knn_model.predict([X_resampled_scaled[idx]])[0]  # KNN predicts the type\n",
    "    except IndexError:\n",
    "        return \"Title not found in the dataset.\"\n",
    "\n",
    "    # Step 3: Combine content-based and KNN results\n",
    "    if len(content_based_recommendations) > 0:\n",
    "        return {\n",
    "            \"KNN_Prediction\": knn_pred,\n",
    "            \"Content-Based_Recommendations\": content_based_recommendations,\n",
    "        }\n",
    "    else:\n",
    "        return \"No content-based recommendations found.\"\n",
    "\n",
    "# Test the combined voting classifier with a specific title\n",
    "result = voting_classifier('Sankofa')\n",
    "print(result)\n"
   ]
  },
  {
   "cell_type": "code",
   "execution_count": null,
   "metadata": {
    "id": "5TmQuPArGD3l"
   },
   "outputs": [],
   "source": []
  },
  {
   "cell_type": "code",
   "execution_count": 49,
   "metadata": {
    "colab": {
     "base_uri": "https://localhost:8080/"
    },
    "id": "phbHarMWGD3l",
    "outputId": "3d4ac65a-24e1-4b9b-f9ba-a46a9a85999c"
   },
   "outputs": [
    {
     "name": "stdout",
     "output_type": "stream",
     "text": [
      "{'KNN_Prediction': 'TV Show', 'Content-Based_Recommendations': 8775         Yeh Meri Family\n",
      "3466            Girls Hostel\n",
      "2353           Chaman Bahaar\n",
      "2472                  Betaal\n",
      "4265    Single Ladies Senior\n",
      "266     The Creative Indians\n",
      "366                  Glow Up\n",
      "751           Guru Aur Bhole\n",
      "1038          Dancing Angels\n",
      "3464       Engineering Girls\n",
      "Name: title, dtype: object}\n"
     ]
    }
   ],
   "source": [
    "# Test the recommendation system with another movie or TV show\n",
    "result = voting_classifier('Kota Factory')\n",
    "print(result)\n"
   ]
  },
  {
   "cell_type": "code",
   "execution_count": null,
   "metadata": {
    "id": "u5b-87yxGD3m"
   },
   "outputs": [],
   "source": []
  },
  {
   "cell_type": "code",
   "execution_count": null,
   "metadata": {
    "id": "BqFRqU1QGD3m"
   },
   "outputs": [],
   "source": []
  },
  {
   "cell_type": "code",
   "execution_count": null,
   "metadata": {
    "id": "ii-kkO8oGD3m"
   },
   "outputs": [],
   "source": []
  },
  {
   "cell_type": "code",
   "execution_count": null,
   "metadata": {
    "id": "B4W6C9lbGD3m"
   },
   "outputs": [],
   "source": []
  },
  {
   "cell_type": "code",
   "execution_count": null,
   "metadata": {
    "id": "HVxbZly_GD3m"
   },
   "outputs": [],
   "source": []
  },
  {
   "cell_type": "code",
   "execution_count": null,
   "metadata": {
    "id": "iD8ySK9nGD3n"
   },
   "outputs": [],
   "source": []
  },
  {
   "cell_type": "code",
   "execution_count": null,
   "metadata": {
    "id": "mx72HD7hGD3n"
   },
   "outputs": [],
   "source": []
  },
  {
   "cell_type": "code",
   "execution_count": null,
   "metadata": {
    "id": "fPIAvKSxGD3n"
   },
   "outputs": [],
   "source": []
  },
  {
   "cell_type": "code",
   "execution_count": null,
   "metadata": {
    "id": "TY8gGTa4GD3o"
   },
   "outputs": [],
   "source": []
  }
 ],
 "metadata": {
  "colab": {
   "provenance": []
  },
  "kernelspec": {
   "display_name": "Python 3",
   "language": "python",
   "name": "python3"
  },
  "language_info": {
   "codemirror_mode": {
    "name": "ipython",
    "version": 3
   },
   "file_extension": ".py",
   "mimetype": "text/x-python",
   "name": "python",
   "nbconvert_exporter": "python",
   "pygments_lexer": "ipython3",
   "version": "3.9.13"
  }
 },
 "nbformat": 4,
 "nbformat_minor": 0
}
